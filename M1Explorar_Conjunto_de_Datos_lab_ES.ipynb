{
    "cells": [
        {
            "cell_type": "markdown",
            "metadata": {
                "id": "S-AMtxzwZxXW"
            },
            "source": "<p style=\"text-align:center\">\n    <a href=\"https://skills.network/?utm_medium=Exinfluencer&utm_source=Exinfluencer&utm_content=000026UJ&utm_term=10006555&utm_id=NA-SkillsNetwork-Channel-SkillsNetworkCoursesIBMDA0121ESCoursera22673396-2022-01-01\" target=\"_blank\">\n    <img src=\"https://cf-courses-data.s3.us.cloud-object-storage.appdomain.cloud/assets/logos/SN_web_lightmode.png\" width=\"200\" alt=\"Skills Network Logo\"  />\n    </a>\n</p>\n"
        },
        {
            "cell_type": "markdown",
            "metadata": {
                "id": "d6GHjejJZxXa"
            },
            "source": "# **Laboratorio de Exploraci\u00f3n de Datos en Encuestas**\n"
        },
        {
            "cell_type": "markdown",
            "metadata": {
                "id": "m7gzcJ4oZxXb"
            },
            "source": "Tiempo Estimado Necesario: **30** minutos.\n"
        },
        {
            "cell_type": "markdown",
            "metadata": {
                "id": "Vl-PTRcHZxXb"
            },
            "source": "## Objetivos\n"
        },
        {
            "cell_type": "markdown",
            "metadata": {
                "id": "TmYV2xSQZxXc"
            },
            "source": "Al terminar este laboratorio ser\u00e1 capaz de:\n"
        },
        {
            "cell_type": "markdown",
            "metadata": {
                "id": "SmoCgR2RZxXd"
            },
            "source": "*   Cargar el conjunto de datos que ser\u00e1n usados a lo largo del proyecto.\n*   Explorar el conjunto de datos.\n*   Familiarizarse con los tipos de datos.\n"
        },
        {
            "cell_type": "markdown",
            "metadata": {
                "id": "FszJUso6ZxXd"
            },
            "source": "## Cargar el Conjunto de Datos\n"
        },
        {
            "cell_type": "markdown",
            "metadata": {
                "id": "zglX2WccZxXd"
            },
            "source": "Importar las librer\u00edas necesarias.\n"
        },
        {
            "cell_type": "code",
            "execution_count": 1,
            "metadata": {
                "id": "CwFR1gnmZxXe"
            },
            "outputs": [],
            "source": "import pandas as pd"
        },
        {
            "cell_type": "markdown",
            "metadata": {
                "id": "EopYl9zzZxXg"
            },
            "source": "El conjunto de datos esta disponible en IBM Cloud en el siguiente enlace.\n"
        },
        {
            "cell_type": "code",
            "execution_count": 2,
            "metadata": {
                "id": "wnROOaRsZxXh"
            },
            "outputs": [],
            "source": "dataset_url = \"https://cf-courses-data.s3.us.cloud-object-storage.appdomain.cloud/IBM-DA0321EN-SkillsNetwork/LargeData/m1_survey_data.csv\""
        },
        {
            "cell_type": "markdown",
            "metadata": {
                "id": "HDAYha5qZxXh"
            },
            "source": "Cargar los datos disponibles en dataset_url en un dataframe.\n"
        },
        {
            "cell_type": "code",
            "execution_count": 6,
            "metadata": {
                "id": "jgGkcpH4ZxXi"
            },
            "outputs": [],
            "source": "# Cargar los datos en un dataframe\ndf = pd.read_csv(dataset_url)\n"
        },
        {
            "cell_type": "markdown",
            "metadata": {
                "id": "iK1nK0sVZxXi"
            },
            "source": "## Explorar el conjunto de datos\n"
        },
        {
            "cell_type": "markdown",
            "metadata": {
                "id": "thZ5SnoPZxXi"
            },
            "source": "Es una buena idea imprimir las primeras 5 filas del conjunto de datos para ver como deber\u00eda verse.\n"
        },
        {
            "cell_type": "markdown",
            "metadata": {
                "id": "CDGovYn6ZxXj"
            },
            "source": "Muestre las primeras 5 filas y columnas de su conjunto de datos.\n"
        },
        {
            "cell_type": "code",
            "execution_count": 8,
            "metadata": {
                "colab": {
                    "base_uri": "https://localhost:8080/",
                    "height": 646
                },
                "id": "4b1TqaDTZxXj",
                "outputId": "7c3f47a7-2dfe-4fa6-9aa4-c31479f4c507"
            },
            "outputs": [
                {
                    "data": {
                        "text/html": "\n  <div id=\"df-68ddc1cc-c8a9-499a-b832-03149fc49687\">\n    <div class=\"colab-df-container\">\n      <div>\n<style scoped>\n    .dataframe tbody tr th:only-of-type {\n        vertical-align: middle;\n    }\n\n    .dataframe tbody tr th {\n        vertical-align: top;\n    }\n\n    .dataframe thead th {\n        text-align: right;\n    }\n</style>\n<table border=\"1\" class=\"dataframe\">\n  <thead>\n    <tr style=\"text-align: right;\">\n      <th></th>\n      <th>Respondent</th>\n      <th>MainBranch</th>\n      <th>Hobbyist</th>\n      <th>OpenSourcer</th>\n      <th>OpenSource</th>\n      <th>Employment</th>\n      <th>Country</th>\n      <th>Student</th>\n      <th>EdLevel</th>\n      <th>UndergradMajor</th>\n      <th>...</th>\n      <th>WelcomeChange</th>\n      <th>SONewContent</th>\n      <th>Age</th>\n      <th>Gender</th>\n      <th>Trans</th>\n      <th>Sexuality</th>\n      <th>Ethnicity</th>\n      <th>Dependents</th>\n      <th>SurveyLength</th>\n      <th>SurveyEase</th>\n    </tr>\n  </thead>\n  <tbody>\n    <tr>\n      <th>0</th>\n      <td>4</td>\n      <td>I am a developer by profession</td>\n      <td>No</td>\n      <td>Never</td>\n      <td>The quality of OSS and closed source software ...</td>\n      <td>Employed full-time</td>\n      <td>United States</td>\n      <td>No</td>\n      <td>Bachelor\u2019s degree (BA, BS, B.Eng., etc.)</td>\n      <td>Computer science, computer engineering, or sof...</td>\n      <td>...</td>\n      <td>Just as welcome now as I felt last year</td>\n      <td>Tech articles written by other developers;Indu...</td>\n      <td>22.0</td>\n      <td>Man</td>\n      <td>No</td>\n      <td>Straight / Heterosexual</td>\n      <td>White or of European descent</td>\n      <td>No</td>\n      <td>Appropriate in length</td>\n      <td>Easy</td>\n    </tr>\n    <tr>\n      <th>1</th>\n      <td>9</td>\n      <td>I am a developer by profession</td>\n      <td>Yes</td>\n      <td>Once a month or more often</td>\n      <td>The quality of OSS and closed source software ...</td>\n      <td>Employed full-time</td>\n      <td>New Zealand</td>\n      <td>No</td>\n      <td>Some college/university study without earning ...</td>\n      <td>Computer science, computer engineering, or sof...</td>\n      <td>...</td>\n      <td>Just as welcome now as I felt last year</td>\n      <td>NaN</td>\n      <td>23.0</td>\n      <td>Man</td>\n      <td>No</td>\n      <td>Bisexual</td>\n      <td>White or of European descent</td>\n      <td>No</td>\n      <td>Appropriate in length</td>\n      <td>Neither easy nor difficult</td>\n    </tr>\n    <tr>\n      <th>2</th>\n      <td>13</td>\n      <td>I am a developer by profession</td>\n      <td>Yes</td>\n      <td>Less than once a month but more than once per ...</td>\n      <td>OSS is, on average, of HIGHER quality than pro...</td>\n      <td>Employed full-time</td>\n      <td>United States</td>\n      <td>No</td>\n      <td>Master\u2019s degree (MA, MS, M.Eng., MBA, etc.)</td>\n      <td>Computer science, computer engineering, or sof...</td>\n      <td>...</td>\n      <td>Somewhat more welcome now than last year</td>\n      <td>Tech articles written by other developers;Cour...</td>\n      <td>28.0</td>\n      <td>Man</td>\n      <td>No</td>\n      <td>Straight / Heterosexual</td>\n      <td>White or of European descent</td>\n      <td>Yes</td>\n      <td>Appropriate in length</td>\n      <td>Easy</td>\n    </tr>\n    <tr>\n      <th>3</th>\n      <td>16</td>\n      <td>I am a developer by profession</td>\n      <td>Yes</td>\n      <td>Never</td>\n      <td>The quality of OSS and closed source software ...</td>\n      <td>Employed full-time</td>\n      <td>United Kingdom</td>\n      <td>No</td>\n      <td>Master\u2019s degree (MA, MS, M.Eng., MBA, etc.)</td>\n      <td>NaN</td>\n      <td>...</td>\n      <td>Just as welcome now as I felt last year</td>\n      <td>Tech articles written by other developers;Indu...</td>\n      <td>26.0</td>\n      <td>Man</td>\n      <td>No</td>\n      <td>Straight / Heterosexual</td>\n      <td>White or of European descent</td>\n      <td>No</td>\n      <td>Appropriate in length</td>\n      <td>Neither easy nor difficult</td>\n    </tr>\n    <tr>\n      <th>4</th>\n      <td>17</td>\n      <td>I am a developer by profession</td>\n      <td>Yes</td>\n      <td>Less than once a month but more than once per ...</td>\n      <td>The quality of OSS and closed source software ...</td>\n      <td>Employed full-time</td>\n      <td>Australia</td>\n      <td>No</td>\n      <td>Bachelor\u2019s degree (BA, BS, B.Eng., etc.)</td>\n      <td>Computer science, computer engineering, or sof...</td>\n      <td>...</td>\n      <td>Just as welcome now as I felt last year</td>\n      <td>Tech articles written by other developers;Indu...</td>\n      <td>29.0</td>\n      <td>Man</td>\n      <td>No</td>\n      <td>Straight / Heterosexual</td>\n      <td>Hispanic or Latino/Latina;Multiracial</td>\n      <td>No</td>\n      <td>Appropriate in length</td>\n      <td>Easy</td>\n    </tr>\n  </tbody>\n</table>\n<p>5 rows \u00d7 85 columns</p>\n</div>\n      <button class=\"colab-df-convert\" onclick=\"convertToInteractive('df-68ddc1cc-c8a9-499a-b832-03149fc49687')\"\n              title=\"Convert this dataframe to an interactive table.\"\n              style=\"display:none;\">\n        \n  <svg xmlns=\"http://www.w3.org/2000/svg\" height=\"24px\"viewBox=\"0 0 24 24\"\n       width=\"24px\">\n    <path d=\"M0 0h24v24H0V0z\" fill=\"none\"/>\n    <path d=\"M18.56 5.44l.94 2.06.94-2.06 2.06-.94-2.06-.94-.94-2.06-.94 2.06-2.06.94zm-11 1L8.5 8.5l.94-2.06 2.06-.94-2.06-.94L8.5 2.5l-.94 2.06-2.06.94zm10 10l.94 2.06.94-2.06 2.06-.94-2.06-.94-.94-2.06-.94 2.06-2.06.94z\"/><path d=\"M17.41 7.96l-1.37-1.37c-.4-.4-.92-.59-1.43-.59-.52 0-1.04.2-1.43.59L10.3 9.45l-7.72 7.72c-.78.78-.78 2.05 0 2.83L4 21.41c.39.39.9.59 1.41.59.51 0 1.02-.2 1.41-.59l7.78-7.78 2.81-2.81c.8-.78.8-2.07 0-2.86zM5.41 20L4 18.59l7.72-7.72 1.47 1.35L5.41 20z\"/>\n  </svg>\n      </button>\n      \n  <style>\n    .colab-df-container {\n      display:flex;\n      flex-wrap:wrap;\n      gap: 12px;\n    }\n\n    .colab-df-convert {\n      background-color: #E8F0FE;\n      border: none;\n      border-radius: 50%;\n      cursor: pointer;\n      display: none;\n      fill: #1967D2;\n      height: 32px;\n      padding: 0 0 0 0;\n      width: 32px;\n    }\n\n    .colab-df-convert:hover {\n      background-color: #E2EBFA;\n      box-shadow: 0px 1px 2px rgba(60, 64, 67, 0.3), 0px 1px 3px 1px rgba(60, 64, 67, 0.15);\n      fill: #174EA6;\n    }\n\n    [theme=dark] .colab-df-convert {\n      background-color: #3B4455;\n      fill: #D2E3FC;\n    }\n\n    [theme=dark] .colab-df-convert:hover {\n      background-color: #434B5C;\n      box-shadow: 0px 1px 3px 1px rgba(0, 0, 0, 0.15);\n      filter: drop-shadow(0px 1px 2px rgba(0, 0, 0, 0.3));\n      fill: #FFFFFF;\n    }\n  </style>\n\n      <script>\n        const buttonEl =\n          document.querySelector('#df-68ddc1cc-c8a9-499a-b832-03149fc49687 button.colab-df-convert');\n        buttonEl.style.display =\n          google.colab.kernel.accessAllowed ? 'block' : 'none';\n\n        async function convertToInteractive(key) {\n          const element = document.querySelector('#df-68ddc1cc-c8a9-499a-b832-03149fc49687');\n          const dataTable =\n            await google.colab.kernel.invokeFunction('convertToInteractive',\n                                                     [key], {});\n          if (!dataTable) return;\n\n          const docLinkHtml = 'Like what you see? Visit the ' +\n            '<a target=\"_blank\" href=https://colab.research.google.com/notebooks/data_table.ipynb>data table notebook</a>'\n            + ' to learn more about interactive tables.';\n          element.innerHTML = '';\n          dataTable['output_type'] = 'display_data';\n          await google.colab.output.renderOutput(dataTable, element);\n          const docLink = document.createElement('div');\n          docLink.innerHTML = docLinkHtml;\n          element.appendChild(docLink);\n        }\n      </script>\n    </div>\n  </div>\n  ",
                        "text/plain": "   Respondent                      MainBranch Hobbyist  \\\n0           4  I am a developer by profession       No   \n1           9  I am a developer by profession      Yes   \n2          13  I am a developer by profession      Yes   \n3          16  I am a developer by profession      Yes   \n4          17  I am a developer by profession      Yes   \n\n                                         OpenSourcer  \\\n0                                              Never   \n1                         Once a month or more often   \n2  Less than once a month but more than once per ...   \n3                                              Never   \n4  Less than once a month but more than once per ...   \n\n                                          OpenSource          Employment  \\\n0  The quality of OSS and closed source software ...  Employed full-time   \n1  The quality of OSS and closed source software ...  Employed full-time   \n2  OSS is, on average, of HIGHER quality than pro...  Employed full-time   \n3  The quality of OSS and closed source software ...  Employed full-time   \n4  The quality of OSS and closed source software ...  Employed full-time   \n\n          Country Student                                            EdLevel  \\\n0   United States      No           Bachelor\u2019s degree (BA, BS, B.Eng., etc.)   \n1     New Zealand      No  Some college/university study without earning ...   \n2   United States      No        Master\u2019s degree (MA, MS, M.Eng., MBA, etc.)   \n3  United Kingdom      No        Master\u2019s degree (MA, MS, M.Eng., MBA, etc.)   \n4       Australia      No           Bachelor\u2019s degree (BA, BS, B.Eng., etc.)   \n\n                                      UndergradMajor  ...  \\\n0  Computer science, computer engineering, or sof...  ...   \n1  Computer science, computer engineering, or sof...  ...   \n2  Computer science, computer engineering, or sof...  ...   \n3                                                NaN  ...   \n4  Computer science, computer engineering, or sof...  ...   \n\n                              WelcomeChange  \\\n0   Just as welcome now as I felt last year   \n1   Just as welcome now as I felt last year   \n2  Somewhat more welcome now than last year   \n3   Just as welcome now as I felt last year   \n4   Just as welcome now as I felt last year   \n\n                                        SONewContent   Age Gender Trans  \\\n0  Tech articles written by other developers;Indu...  22.0    Man    No   \n1                                                NaN  23.0    Man    No   \n2  Tech articles written by other developers;Cour...  28.0    Man    No   \n3  Tech articles written by other developers;Indu...  26.0    Man    No   \n4  Tech articles written by other developers;Indu...  29.0    Man    No   \n\n                 Sexuality                              Ethnicity Dependents  \\\n0  Straight / Heterosexual           White or of European descent         No   \n1                 Bisexual           White or of European descent         No   \n2  Straight / Heterosexual           White or of European descent        Yes   \n3  Straight / Heterosexual           White or of European descent         No   \n4  Straight / Heterosexual  Hispanic or Latino/Latina;Multiracial         No   \n\n            SurveyLength                  SurveyEase  \n0  Appropriate in length                        Easy  \n1  Appropriate in length  Neither easy nor difficult  \n2  Appropriate in length                        Easy  \n3  Appropriate in length  Neither easy nor difficult  \n4  Appropriate in length                        Easy  \n\n[5 rows x 85 columns]"
                    },
                    "execution_count": 8,
                    "metadata": {},
                    "output_type": "execute_result"
                }
            ],
            "source": "# Mostrar las primeras 5 filas y columnas del dataframe\ndf.head()\n#utilizado solo para mostrar algunas columnas:\n#dataframe.head()[['columna1', 'columna2', 'columna3']"
        },
        {
            "cell_type": "markdown",
            "metadata": {
                "id": "3CDJS7x7ZxXj"
            },
            "source": "## Encontrar el n\u00famero de filas y columnas\n"
        },
        {
            "cell_type": "markdown",
            "metadata": {
                "id": "jNQkI0TXZxXk"
            },
            "source": "Empiece por explorar el n\u00famero de filas y columnas de datos en el conjunto.\n"
        },
        {
            "cell_type": "markdown",
            "metadata": {
                "id": "f3VckmGeZxXk"
            },
            "source": "Imprima el n\u00famero de filas en el conjunto de datos.\n"
        },
        {
            "cell_type": "code",
            "execution_count": 9,
            "metadata": {
                "colab": {
                    "base_uri": "https://localhost:8080/"
                },
                "id": "Zp-Yh0QdZxXl",
                "outputId": "124db2cd-193e-4551-8aab-d7b16e29c5cb"
            },
            "outputs": [
                {
                    "name": "stdout",
                    "output_type": "stream",
                    "text": "N\u00famero de filas: 11552\n"
                }
            ],
            "source": "# Imprimir el n\u00famero de filas del dataframe\nnumero_filas = df.shape[0]\nprint(\"N\u00famero de filas:\", numero_filas)"
        },
        {
            "cell_type": "markdown",
            "metadata": {
                "id": "uOVAFQnUZxXl"
            },
            "source": "Imprima el n\u00famero de columnas en el conjunto de datos.\n"
        },
        {
            "cell_type": "code",
            "execution_count": 10,
            "metadata": {
                "colab": {
                    "base_uri": "https://localhost:8080/"
                },
                "id": "zgQLUpIBZxXl",
                "outputId": "83b4d2ef-64fe-46aa-f252-4e55d9fdad43"
            },
            "outputs": [
                {
                    "name": "stdout",
                    "output_type": "stream",
                    "text": "N\u00famero de filas: 85\n"
                }
            ],
            "source": "numero_columnas = df.shape[1]\nprint(\"N\u00famero de filas:\", numero_columnas)"
        },
        {
            "cell_type": "markdown",
            "metadata": {
                "id": "NecqHjPXZxXm"
            },
            "source": "## Identificar el tipo de dato en cada columna\n"
        },
        {
            "cell_type": "markdown",
            "metadata": {
                "id": "zhWwkvjLZxXm"
            },
            "source": "Explorar el conjunto de datos e identificar los tipos de datos en cada columna\n"
        },
        {
            "cell_type": "markdown",
            "metadata": {
                "id": "_eQzZn6pZxXm"
            },
            "source": "Imprima el tipo de dato de todas las columnas.\n"
        },
        {
            "cell_type": "code",
            "execution_count": 11,
            "metadata": {
                "colab": {
                    "base_uri": "https://localhost:8080/"
                },
                "id": "DNODkj8gZxXn",
                "outputId": "2180e46e-9b84-4bd0-dafe-f355676f8580"
            },
            "outputs": [
                {
                    "name": "stdout",
                    "output_type": "stream",
                    "text": "Respondent       int64\nMainBranch      object\nHobbyist        object\nOpenSourcer     object\nOpenSource      object\n                 ...  \nSexuality       object\nEthnicity       object\nDependents      object\nSurveyLength    object\nSurveyEase      object\nLength: 85, dtype: object\n"
                }
            ],
            "source": "tipos_de_dato = df.dtypes\nprint(tipos_de_dato)"
        },
        {
            "cell_type": "markdown",
            "metadata": {
                "id": "ubsv1_dnZxXn"
            },
            "source": "Imprima la media de edad de los participantes de la encuesta.\n"
        },
        {
            "cell_type": "code",
            "execution_count": 12,
            "metadata": {
                "colab": {
                    "base_uri": "https://localhost:8080/"
                },
                "id": "hGsODv7gZxXn",
                "outputId": "627d452b-936b-45b1-9951-4825becb3e3e"
            },
            "outputs": [
                {
                    "name": "stdout",
                    "output_type": "stream",
                    "text": "Media de edad: 30.77239449133718\n"
                }
            ],
            "source": "media_edad = df['Age'].mean()\nprint(\"Media de edad:\", media_edad)"
        },
        {
            "cell_type": "markdown",
            "metadata": {
                "id": "XgE6DWOMZxXo"
            },
            "source": "El conjunto de datos es el resultado de una encuesta a nivel mundial. Imprima cuantos pa\u00edses aparecen el la columna Country.\n"
        },
        {
            "cell_type": "code",
            "execution_count": 13,
            "metadata": {
                "colab": {
                    "base_uri": "https://localhost:8080/"
                },
                "id": "7HW-3KqpZxXo",
                "outputId": "aa46cac8-4a03-4438-b789-954bfa0c438a"
            },
            "outputs": [
                {
                    "name": "stdout",
                    "output_type": "stream",
                    "text": "Cantidad de pa\u00edses: 135\n"
                }
            ],
            "source": "# Contar la cantidad de pa\u00edses \u00fanicos en la columna \"Country\"\ncantidad_paises = df['Country'].nunique()\nprint(\"Cantidad de pa\u00edses:\", cantidad_paises)"
        },
        {
            "cell_type": "markdown",
            "metadata": {
                "id": "JpKNcvKRZxXp"
            },
            "source": "## Autores\n"
        },
        {
            "cell_type": "markdown",
            "metadata": {
                "id": "I3Y8OlLiZxXp"
            },
            "source": "Ramesh Sannareddy\n"
        },
        {
            "cell_type": "markdown",
            "metadata": {
                "id": "czfcbQ8hZxXp"
            },
            "source": "### Otros Colaboradores\n"
        },
        {
            "cell_type": "markdown",
            "metadata": {
                "id": "g4VGEpk6ZxXq"
            },
            "source": "Rav Ahuja\n"
        },
        {
            "cell_type": "markdown",
            "metadata": {
                "id": "ZpIWI9bHZxXq"
            },
            "source": "## Change Log\n"
        },
        {
            "cell_type": "markdown",
            "metadata": {
                "id": "WVvoOkNHZxXr"
            },
            "source": "| Date (YYYY-MM-DD) | Version | Changed By        | Change Description             |\n| ----------------- | ------- | ----------------- | ------------------------------ |\n| 2020-10-17        | 0.1     | Ramesh Sannareddy | Crear versi\u00f3n inicial del lab. |\n"
        },
        {
            "cell_type": "markdown",
            "metadata": {
                "id": "q__lW1x3ZxXr"
            },
            "source": "Copyright \u00a9 2020 IBM Corporation. This notebook and its source code are released under the terms of the [MIT License](https://cognitiveclass.ai/mit-license?utm_medium=Exinfluencer&utm_source=Exinfluencer&utm_content=000026UJ&utm_term=10006555&utm_id=NA-SkillsNetwork-Channel-SkillsNetworkCoursesIBMDA0121ESCoursera22673396-2022-01-01&cm_mmc=Email_Newsletter-\\_-Developer_Ed%2BTech-\\_-WW_WW-\\_-SkillsNetwork-Courses-IBM-DA0321EN-SkillsNetwork-21426264&cm_mmca1=000026UJ&cm_mmca2=10006555&cm_mmca3=M12345678&cvosrc=email.Newsletter.M12345678&cvo_campaign=000026UJ).\n"
        }
    ],
    "metadata": {
        "colab": {
            "provenance": []
        },
        "kernelspec": {
            "display_name": "Python 3",
            "language": "python",
            "name": "python3"
        },
        "language_info": {
            "codemirror_mode": {
                "name": "ipython",
                "version": 3
            },
            "file_extension": ".py",
            "mimetype": "text/x-python",
            "name": "python",
            "nbconvert_exporter": "python",
            "pygments_lexer": "ipython3",
            "version": "3.9.0"
        }
    },
    "nbformat": 4,
    "nbformat_minor": 0
}