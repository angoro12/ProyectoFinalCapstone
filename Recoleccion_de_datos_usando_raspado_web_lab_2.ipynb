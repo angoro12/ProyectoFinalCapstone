{
    "cells": [
        {
            "cell_type": "markdown",
            "metadata": {},
            "source": "<p style=\"text-align:center\">\n    <a href=\"https://skills.network/?utm_medium=Exinfluencer&utm_source=Exinfluencer&utm_content=000026UJ&utm_term=10006555&utm_id=NA-SkillsNetwork-Channel-SkillsNetworkCoursesIBMDA0121ESCoursera22673396-2022-01-01\" target=\"_blank\">\n    <img src=\"https://cf-courses-data.s3.us.cloud-object-storage.appdomain.cloud/assets/logos/SN_web_lightmode.png\" width=\"200\" alt=\"Skills Network Logo\"  />\n    </a>\n</p>\n"
        },
        {
            "cell_type": "markdown",
            "metadata": {},
            "source": "# **Laboratorio Pr\u00e1ctico : Web Scraping**\n"
        },
        {
            "cell_type": "markdown",
            "metadata": {},
            "source": "Tiempo Estimado Necesario: **30 a 45** minutos.\n"
        },
        {
            "cell_type": "markdown",
            "metadata": {},
            "source": "## Objetivos\n"
        },
        {
            "cell_type": "markdown",
            "metadata": {},
            "source": "En este laboratorio usted realizar\u00e1 lo siguiente:\n"
        },
        {
            "cell_type": "markdown",
            "metadata": {},
            "source": "*   Extraer informaci\u00f3n del sitio web\n*   Guardar los datos extra\u00eddos en un archivo csv\n"
        },
        {
            "cell_type": "markdown",
            "metadata": {},
            "source": "## Extraer informaci\u00f3n del sitio web\n\nUsted extraer\u00e1 los datos del siguiente sitio web: <br>\n"
        },
        {
            "cell_type": "code",
            "execution_count": 2,
            "metadata": {},
            "outputs": [],
            "source": "# Esta URL contiene los datos que usted necesitar\u00e1 extraer\nurl = \"https://cf-courses-data.s3.us.cloud-object-storage.appdomain.cloud/IBM-DA0321EN-SkillsNetwork/labs/datasets/Programming_Languages.html\""
        },
        {
            "cell_type": "markdown",
            "metadata": {},
            "source": "Los datos que necesita extraer es el **nombre del lenguaje de programaci\u00f3n** y el **sueldo promedio anual**.<br> Es una buena idea abrir el URL en su explorador web y estudiar el contenido de la pagina web antes de empezar.\n"
        },
        {
            "cell_type": "markdown",
            "metadata": {},
            "source": "Importar las librer\u00edas necesarias\n"
        },
        {
            "cell_type": "code",
            "execution_count": 3,
            "metadata": {},
            "outputs": [],
            "source": "from bs4 import BeautifulSoup # este m\u00f3dulo ayuda con el proceso de web scrapping.\nimport requests  # este m\u00f3dulo ayuda con la descarga de la p\u00e1gina web\nimport csv"
        },
        {
            "cell_type": "markdown",
            "metadata": {},
            "source": "Descargar la p\u00e1gina web del URL\n"
        },
        {
            "cell_type": "code",
            "execution_count": 4,
            "metadata": {},
            "outputs": [],
            "source": "url = \"https://cf-courses-data.s3.us.cloud-object-storage.appdomain.cloud/IBM-DA0321EN-SkillsNetwork/labs/datasets/Programming_Languages.html\"\ndata  = requests.get(url).text "
        },
        {
            "cell_type": "markdown",
            "metadata": {},
            "source": "Crear un objeto soup (sopa)\n"
        },
        {
            "cell_type": "code",
            "execution_count": 5,
            "metadata": {},
            "outputs": [],
            "source": "soup = BeautifulSoup(data,\"html.parser\")"
        },
        {
            "cell_type": "markdown",
            "metadata": {},
            "source": "Extraiga el `nombre del Lenguaje` y `sueldo promedio anual`.\n"
        },
        {
            "cell_type": "code",
            "execution_count": 6,
            "metadata": {},
            "outputs": [
                {
                    "name": "stdout",
                    "output_type": "stream",
                    "text": "Los datos se han guardado en el archivo 'popular-languages.csv' correctamente.\n"
                }
            ],
            "source": "# Encontrar la tabla en el HTML\ntable = soup.find('table')\n\n# Ruta del archivo CSV\narchivo_csv = 'popular-languages.csv'\n\n# Abrir el archivo CSV en modo escritura\nwith open(archivo_csv, 'wt+', newline='') as csvFile:\n    writer = csv.writer(csvFile)\n\n    # Iterar sobre cada fila de la tabla\n    for row in table.find_all('tr'):\n        # Obtener todas las columnas en cada fila\n        cols = row.find_all('td')\n\n        # Extraer los datos de inter\u00e9s\n        if len(cols) >= 4:\n            Language = cols[1].getText()\n            Average_Annual_Salary = cols[3].getText()\n\n            # Escribir los datos en el archivo CSV\n            writer.writerow([Language, Average_Annual_Salary])\n\nprint(f\"Los datos se han guardado en el archivo '{archivo_csv}' correctamente.\")\n"
        },
        {
            "cell_type": "markdown",
            "metadata": {},
            "source": "Guarde los datos extra\u00eddos en un archivo llamado *popular-languages.csv*\n"
        },
        {
            "cell_type": "code",
            "execution_count": 7,
            "metadata": {},
            "outputs": [
                {
                    "name": "stdout",
                    "output_type": "stream",
                    "text": "['Language', 'Average Annual Salary']\n['Python', '$114,383']\n['Java', '$101,013']\n['R', '$92,037']\n['Javascript', '$110,981']\n['Swift', '$130,801']\n['C++', '$113,865']\n['C#', '$88,726']\n['PHP', '$84,727']\n['SQL', '$84,793']\n['Go', '$94,082']\n"
                }
            ],
            "source": "# Ruta del archivo CSV\narchivo_csv = 'popular-languages.csv'\n\n# Leer el contenido del archivo CSV\nwith open(archivo_csv, 'r') as csvFile:\n    reader = csv.reader(csvFile)\n\n    # Iterar sobre cada fila del archivo CSV\n    for row in reader:\n        print(row)"
        },
        {
            "cell_type": "markdown",
            "metadata": {},
            "source": "## Autores\n"
        },
        {
            "cell_type": "markdown",
            "metadata": {},
            "source": "Ramesh Sannareddy\n"
        },
        {
            "cell_type": "markdown",
            "metadata": {},
            "source": "### Otros colaboradores\n"
        },
        {
            "cell_type": "markdown",
            "metadata": {},
            "source": "Rav Ahuja\n"
        },
        {
            "cell_type": "markdown",
            "metadata": {},
            "source": "## Change Log\n"
        },
        {
            "cell_type": "markdown",
            "metadata": {},
            "source": "| Date (YYYY-MM-DD) | Version | Changed By        | Change Description                |\n| ----------------- | ------- | ----------------- | --------------------------------- |\n| 2020-10-17        | 0.1     | Ramesh Sannareddy | Crear la versi\u00f3n inicial del lab. |\n"
        },
        {
            "cell_type": "markdown",
            "metadata": {},
            "source": "Copyright \u00a9 2020 IBM Corporation. This notebook and its source code are released under the terms of the [MIT License](https://cognitiveclass.ai/mit-license?utm_medium=Exinfluencer&utm_source=Exinfluencer&utm_content=000026UJ&utm_term=10006555&utm_id=NA-SkillsNetwork-Channel-SkillsNetworkCoursesIBMDA0121ESCoursera22673396-2022-01-01&cm_mmc=Email_Newsletter-\\_-Developer_Ed%2BTech-\\_-WW_WW-\\_-SkillsNetwork-Courses-IBM-DA0321EN-SkillsNetwork-21426264&cm_mmca1=000026UJ&cm_mmca2=10006555&cm_mmca3=M12345678&cvosrc=email.Newsletter.M12345678&cvo_campaign=000026UJ).\n"
        }
    ],
    "metadata": {
        "kernelspec": {
            "display_name": "Python 3.10",
            "language": "python",
            "name": "python3"
        },
        "language_info": {
            "codemirror_mode": {
                "name": "ipython",
                "version": 3
            },
            "file_extension": ".py",
            "mimetype": "text/x-python",
            "name": "python",
            "nbconvert_exporter": "python",
            "pygments_lexer": "ipython3",
            "version": "3.10.9"
        }
    },
    "nbformat": 4,
    "nbformat_minor": 4
}