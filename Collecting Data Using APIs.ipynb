{
    "cells": [
        {
            "cell_type": "markdown",
            "metadata": {},
            "source": "<center>\n    <img src=\"https://gitlab.com/ibm/skills-network/courses/placeholder101/-/raw/master/labs/module%201/images/IDSNlogo.png\" width=\"300\" alt=\"cognitiveclass.ai logo\"  />\n</center>\n"
        },
        {
            "cell_type": "markdown",
            "metadata": {},
            "source": "# **Collecting Job Data Using APIs**\n"
        },
        {
            "cell_type": "markdown",
            "metadata": {},
            "source": "Estimated time needed: **45 to 60** minutes\n"
        },
        {
            "cell_type": "markdown",
            "metadata": {},
            "source": "## Objectives\n"
        },
        {
            "cell_type": "markdown",
            "metadata": {},
            "source": "After completing this lab, you will be able to:\n"
        },
        {
            "cell_type": "markdown",
            "metadata": {},
            "source": "*   Collect job data from GitHub Jobs API\n*   Store the collected data into an excel spreadsheet.\n"
        },
        {
            "cell_type": "markdown",
            "metadata": {},
            "source": "## Warm-Up Exercise\n"
        },
        {
            "cell_type": "markdown",
            "metadata": {},
            "source": "Before you attempt the actual lab, here is a fully solved warmup exercise that will help you to learn how to access an API.\n"
        },
        {
            "cell_type": "markdown",
            "metadata": {},
            "source": "Using an API, let us find out who currently are on the International Space Station (ISS).<br> The API at [http://api.open-notify.org/astros.json](http://api.open-notify.org/astros.json?utm_medium=Exinfluencer\\&utm_source=Exinfluencer\\&utm_content=000026UJ\\&utm_term=10006555\\&utm_id=NA-SkillsNetwork-Channel-SkillsNetworkCoursesIBMDA0321ENSkillsNetwork21426264-2021-01-01\\&cm_mmc=Email_Newsletter-\\_-Developer_Ed%2BTech-\\_-WW_WW-\\_-SkillsNetwork-Courses-IBM-DA0321EN-SkillsNetwork-21426264\\&cm_mmca1=000026UJ\\&cm_mmca2=10006555\\&cm_mmca3=M12345678\\&cvosrc=email.Newsletter.M12345678\\&cvo_campaign=000026UJ) gives us the information of astronauts currently on ISS in json format.<br>\nYou can read more about this API at [http://open-notify.org/Open-Notify-API/People-In-Space/](http://open-notify.org/Open-Notify-API/People-In-Space?utm_medium=Exinfluencer\\&utm_source=Exinfluencer\\&utm_content=000026UJ\\&utm_term=10006555\\&utm_id=NA-SkillsNetwork-Channel-SkillsNetworkCoursesIBMDA0321ENSkillsNetwork21426264-2021-01-01\\&cm_mmc=Email_Newsletter-\\_-Developer_Ed%2BTech-\\_-WW_WW-\\_-SkillsNetwork-Courses-IBM-DA0321EN-SkillsNetwork-21426264\\&cm_mmca1=000026UJ\\&cm_mmca2=10006555\\&cm_mmca3=M12345678\\&cvosrc=email.Newsletter.M12345678\\&cvo_campaign=000026UJ)\n"
        },
        {
            "cell_type": "code",
            "execution_count": 1,
            "metadata": {},
            "outputs": [],
            "source": "import requests # you need this module to make an API call"
        },
        {
            "cell_type": "code",
            "execution_count": 2,
            "metadata": {},
            "outputs": [],
            "source": "api_url = \"http://api.open-notify.org/astros.json\" # this url gives use the astronaut data"
        },
        {
            "cell_type": "code",
            "execution_count": 3,
            "metadata": {},
            "outputs": [],
            "source": "response = requests.get(api_url) # Call the API using the get method and store the\n                                # output of the API call in a variable called response."
        },
        {
            "cell_type": "code",
            "execution_count": 4,
            "metadata": {},
            "outputs": [],
            "source": "if response.ok:             # if all is well() no errors, no network timeouts)\n    data = response.json()  # store the result in json format in a variable called data\n                            # the variable data is of type dictionary."
        },
        {
            "cell_type": "code",
            "execution_count": 5,
            "metadata": {},
            "outputs": [
                {
                    "name": "stdout",
                    "output_type": "stream",
                    "text": "{'people': [{'name': 'Mark Vande Hei', 'craft': 'ISS'}, {'name': 'Oleg Novitskiy', 'craft': 'ISS'}, {'name': 'Pyotr Dubrov', 'craft': 'ISS'}, {'name': 'Thomas Pesquet', 'craft': 'ISS'}, {'name': 'Megan McArthur', 'craft': 'ISS'}, {'name': 'Shane Kimbrough', 'craft': 'ISS'}, {'name': 'Akihiko Hoshide', 'craft': 'ISS'}, {'name': 'Nie Haisheng', 'craft': 'Tiangong'}, {'name': 'Liu Boming', 'craft': 'Tiangong'}, {'name': 'Tang Hongbo', 'craft': 'Tiangong'}], 'number': 10, 'message': 'success'}\n"
                }
            ],
            "source": "print(data)   # print the data just to check the output or for debugging"
        },
        {
            "cell_type": "markdown",
            "metadata": {},
            "source": "Print the number of astronauts currently on ISS.\n"
        },
        {
            "cell_type": "code",
            "execution_count": 6,
            "metadata": {},
            "outputs": [
                {
                    "name": "stdout",
                    "output_type": "stream",
                    "text": "10\n"
                }
            ],
            "source": "print(data.get('number'))"
        },
        {
            "cell_type": "markdown",
            "metadata": {},
            "source": "Print the names of the astronauts currently on ISS.\n"
        },
        {
            "cell_type": "code",
            "execution_count": 7,
            "metadata": {},
            "outputs": [
                {
                    "name": "stdout",
                    "output_type": "stream",
                    "text": "There are 10 astronauts on ISS\nAnd their names are :\nMark Vande Hei\nOleg Novitskiy\nPyotr Dubrov\nThomas Pesquet\nMegan McArthur\nShane Kimbrough\nAkihiko Hoshide\nNie Haisheng\nLiu Boming\nTang Hongbo\n"
                }
            ],
            "source": "astronauts = data.get('people')\nprint(\"There are {} astronauts on ISS\".format(len(astronauts)))\nprint(\"And their names are :\")\nfor astronaut in astronauts:\n    print(astronaut.get('name'))"
        },
        {
            "cell_type": "markdown",
            "metadata": {},
            "source": "Hope the warmup was helpful. Good luck with your next lab!\n"
        },
        {
            "cell_type": "markdown",
            "metadata": {},
            "source": "## Lab: Collect Jobs Data using GitHub Jobs API\n"
        },
        {
            "cell_type": "markdown",
            "metadata": {},
            "source": "### Objective: Determine the number of jobs currently open for various technologies\n"
        },
        {
            "cell_type": "markdown",
            "metadata": {},
            "source": "Collect the number of job postings for the following languages using the API:\n\n*   C\n*   C#\n*   C++\n*   Java\n*   JavaScript\n*   Python\n*   Scala\n*   Oracle\n*   SQL Server\n*   MySQL Server\n*   PostgreSQL\n*   MongoDB\n"
        },
        {
            "cell_type": "code",
            "execution_count": 8,
            "metadata": {},
            "outputs": [],
            "source": "#Import required libraries\nimport requests"
        },
        {
            "cell_type": "code",
            "execution_count": 10,
            "metadata": {},
            "outputs": [],
            "source": "baseurl = \"https://cf-courses-data.s3.us.cloud-object-storage.appdomain.cloud/IBM-DA0321EN-SkillsNetwork/labs/module%201/datasets/githubposting.json\"\n\nresp = requests.get(baseurl)\n\nif resp.ok:\n    data=resp.json()"
        },
        {
            "cell_type": "markdown",
            "metadata": {},
            "source": "Write a function to get the number of jobs for the given technology.<br>\n*Note:* The API gives a maximum of 50 jobs per page.<br>\nIf you get 50 jobs per page, it means there could be some more job listings available.<br>\nSo if you get 50 jobs per page you should make another API call for next page to check for more jobs.<br>\nIf you get less than 50 jobs per page, you can take it as the final count.<br>\n"
        },
        {
            "cell_type": "code",
            "execution_count": 11,
            "metadata": {},
            "outputs": [],
            "source": "def get_number_of_jobs(technology):\n    number_of_jobs = 0\n    #your code goes here\n    for tech in technology:\n        number_of_jobs = number_of_jobs + 1\n    return technology,number_of_jobs"
        },
        {
            "cell_type": "markdown",
            "metadata": {},
            "source": "Call the function for Python and check if it is working.\n"
        },
        {
            "cell_type": "code",
            "execution_count": 12,
            "metadata": {},
            "outputs": [
                {
                    "name": "stdout",
                    "output_type": "stream",
                    "text": "('python', 6)\n"
                }
            ],
            "source": "print(get_number_of_jobs('python'))"
        },
        {
            "cell_type": "markdown",
            "metadata": {},
            "source": "### Store the results in an excel file\n"
        },
        {
            "cell_type": "markdown",
            "metadata": {},
            "source": "Call the API for all the given technologies above and write the results in an excel spreadsheet.\n"
        },
        {
            "cell_type": "markdown",
            "metadata": {},
            "source": "If you do not know how create excel file using python, double click here for **hints**.\n\n<!--\n\nfrom openpyxl import Workbook        # import Workbook class from module openpyxl\nwb=Workbook()                        # create a workbook object\nws=wb.active                         # use the active worksheet\nws.append(['Country','Continent'])   # add a row with two columns 'Country' and 'Continent'\nws.append(['Eygpt','Africa'])        # add a row with two columns 'Egypt' and 'Africa'\nws.append(['India','Asia'])          # add another row\nws.append(['France','Europe'])       # add another row\nwb.save(\"countries.xlsx\")            # save the workbook into a file called countries.xlsx\n\n\n-->\n"
        },
        {
            "cell_type": "markdown",
            "metadata": {},
            "source": "Create a python list of all technologies for which you need to find the number of jobs postings.\n"
        },
        {
            "cell_type": "code",
            "execution_count": 13,
            "metadata": {},
            "outputs": [],
            "source": "#your code goes here\nJobs = ['C','C#','C++','Java','JavaScript','Python','Scala','Oracle','SQL Server','MySQL Server','PostgreSQL','MongoDB']"
        },
        {
            "cell_type": "markdown",
            "metadata": {},
            "source": "Import libraries required to create excel spreadsheet\n"
        },
        {
            "cell_type": "code",
            "execution_count": 14,
            "metadata": {},
            "outputs": [
                {
                    "name": "stdout",
                    "output_type": "stream",
                    "text": "/opt/conda/envs/Python-3.7-OpenCE/lib/python3.7/site-packages/secretstorage/dhcrypto.py:16: CryptographyDeprecationWarning: int_from_bytes is deprecated, use int.from_bytes instead\n  from cryptography.utils import int_from_bytes\n/opt/conda/envs/Python-3.7-OpenCE/lib/python3.7/site-packages/secretstorage/util.py:25: CryptographyDeprecationWarning: int_from_bytes is deprecated, use int.from_bytes instead\n  from cryptography.utils import int_from_bytes\nCollecting openpyxl\n  Downloading openpyxl-3.0.7-py2.py3-none-any.whl (243 kB)\n\u001b[K     |\u2588\u2588\u2588\u2588\u2588\u2588\u2588\u2588\u2588\u2588\u2588\u2588\u2588\u2588\u2588\u2588\u2588\u2588\u2588\u2588\u2588\u2588\u2588\u2588\u2588\u2588\u2588\u2588\u2588\u2588\u2588\u2588| 243 kB 23.2 MB/s eta 0:00:01\n\u001b[?25hCollecting et-xmlfile\n  Downloading et_xmlfile-1.1.0-py3-none-any.whl (4.7 kB)\nInstalling collected packages: et-xmlfile, openpyxl\nSuccessfully installed et-xmlfile-1.1.0 openpyxl-3.0.7\n"
                }
            ],
            "source": "# your code goes here\n!pip install openpyxl\nfrom openpyxl import Workbook"
        },
        {
            "cell_type": "markdown",
            "metadata": {},
            "source": "Create a workbook and select the active worksheet\n"
        },
        {
            "cell_type": "code",
            "execution_count": 15,
            "metadata": {},
            "outputs": [],
            "source": "# your code goes here\nwb=Workbook()                        \nws=wb.active"
        },
        {
            "cell_type": "markdown",
            "metadata": {},
            "source": "Find the number of jobs postings for each of the technology in the above list.\nWrite the technology name and the number of jobs postings into the excel spreadsheet.\n"
        },
        {
            "cell_type": "code",
            "execution_count": 16,
            "metadata": {},
            "outputs": [
                {
                    "name": "stdout",
                    "output_type": "stream",
                    "text": "('C', 1)\n('C#', 2)\n('C++', 3)\n('Java', 4)\n('JavaScript', 10)\n('Python', 6)\n('Scala', 5)\n('Oracle', 6)\n('SQL Server', 10)\n('MySQL Server', 12)\n('PostgreSQL', 10)\n('MongoDB', 7)\n"
                }
            ],
            "source": "#your code goes here\nfor num in Jobs:\n    print(get_number_of_jobs(num))\n    ws.append(get_number_of_jobs(num))"
        },
        {
            "cell_type": "markdown",
            "metadata": {},
            "source": "Save into an excel spreadsheet named 'github-job-postings.xlsx'.\n"
        },
        {
            "cell_type": "code",
            "execution_count": 19,
            "metadata": {},
            "outputs": [
                {
                    "name": "stdout",
                    "output_type": "stream",
                    "text": "               C   1\n0             C#   2\n1            C++   3\n2           Java   4\n3     JavaScript  10\n4         Python   6\n5          Scala   5\n6         Oracle   6\n7     SQL Server  10\n8   MySQL Server  12\n9     PostgreSQL  10\n10       MongoDB   7\n"
                },
                {
                    "data": {
                        "text/plain": "<function matplotlib.pyplot.show(*args, **kw)>"
                    },
                    "execution_count": 19,
                    "metadata": {},
                    "output_type": "execute_result"
                },
                {
                    "data": {
                        "image/png": "[encoded data removed]",
                        "text/plain": "<Figure size 1152x576 with 1 Axes>"
                    },
                    "metadata": {
                        "needs_background": "light"
                    },
                    "output_type": "display_data"
                }
            ],
            "source": "#your code goes here\nwb.save('github-job-posting.xlsx')\nimport pandas as pd\n\ndf = pd.read_excel ('github-job-posting.xlsx')\nprint (df)\n\nimport matplotlib.pyplot as plt\nimport numpy as np\nimport pandas as pd\nimport seaborn as sns\n\npostings = [12,10,10,10,7,6,6,5,4,3,2,1]\ndf = ['MySQL Server', 'SQL Server', 'PostgreSQL', 'JavaScript','MongoDB','Oracle','Python','Scala','Java','C++','C#','C']\nhs = np.arange(len(df))\nplt.figure(figsize=(16,8))\nplt.bar(hs, postings, align='center', alpha=0.5)\n\nplt.xticks(hs, df)\nplt.title('Jobs currently open for various technologies')\nplt.show"
        },
        {
            "cell_type": "markdown",
            "metadata": {},
            "source": "## Authors\n"
        },
        {
            "cell_type": "markdown",
            "metadata": {},
            "source": "Ramesh Sannareddy\n"
        },
        {
            "cell_type": "markdown",
            "metadata": {},
            "source": "### Other Contributors\n"
        },
        {
            "cell_type": "markdown",
            "metadata": {},
            "source": "Rav Ahuja\n"
        },
        {
            "cell_type": "markdown",
            "metadata": {},
            "source": "## Change Log\n"
        },
        {
            "cell_type": "markdown",
            "metadata": {},
            "source": "| Date (YYYY-MM-DD) | Version | Changed By        | Change Description                 |\n| ----------------- | ------- | ----------------- | ---------------------------------- |\n| 2021-6-25         | 0.2     | Malika            | Updated GitHub job json link       |\n| 2020-10-17        | 0.1     | Ramesh Sannareddy | Created initial version of the lab |\n"
        },
        {
            "cell_type": "markdown",
            "metadata": {},
            "source": "Copyright \u00a9 2020 IBM Corporation. This notebook and its source code are released under the terms of the [MIT License](https://cognitiveclass.ai/mit-license?utm_medium=Exinfluencer\\&utm_source=Exinfluencer\\&utm_content=000026UJ\\&utm_term=10006555\\&utm_id=NA-SkillsNetwork-Channel-SkillsNetworkCoursesIBMDA0321ENSkillsNetwork21426264-2021-01-01\\&cm_mmc=Email_Newsletter-\\_-Developer_Ed%2BTech-\\_-WW_WW-\\_-SkillsNetwork-Courses-IBM-DA0321EN-SkillsNetwork-21426264\\&cm_mmca1=000026UJ\\&cm_mmca2=10006555\\&cm_mmca3=M12345678\\&cvosrc=email.Newsletter.M12345678\\&cvo_campaign=000026UJ).\n"
        }
    ],
    "metadata": {
        "kernelspec": {
            "display_name": "Python 3.7",
            "language": "python",
            "name": "python3"
        },
        "language_info": {
            "codemirror_mode": {
                "name": "ipython",
                "version": 3
            },
            "file_extension": ".py",
            "mimetype": "text/x-python",
            "name": "python",
            "nbconvert_exporter": "python",
            "pygments_lexer": "ipython3",
            "version": "3.7.10"
        }
    },
    "nbformat": 4,
    "nbformat_minor": 4
}